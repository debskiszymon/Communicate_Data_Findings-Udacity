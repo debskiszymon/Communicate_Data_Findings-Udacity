{
 "cells": [
  {
   "cell_type": "markdown",
   "metadata": {
    "slideshow": {
     "slide_type": "slide"
    }
   },
   "source": [
    "# 2019.02 Ford Go Bike - trip data\n",
    "## by Szymon Debski"
   ]
  },
  {
   "cell_type": "markdown",
   "metadata": {
    "slideshow": {
     "slide_type": "slide"
    }
   },
   "source": [
    "## Investigation Overview\n",
    "\n",
    "> The exploration and visualization purpose is to find a pattern in bike riding history, mainly focusing on ride duration and characteristics of people riding the bike.\n",
    "\n",
    "## Dataset Overview\n",
    "\n",
    "> The data set is the Ford Go Bike trip data. The data was collected in February 2019 in San Francisco Bay Area. The data set I will be using has over 18 hundred records and information such as (trip duration, sex, user type, date of birth). All the analysis presented below is based on this data after it has been wrangled."
   ]
  },
  {
   "cell_type": "code",
   "execution_count": 19,
   "metadata": {
    "slideshow": {
     "slide_type": "skip"
    }
   },
   "outputs": [],
   "source": [
    "# import all packages and set plots to be embedded inline\n",
    "import numpy as np\n",
    "import pandas as pd\n",
    "import matplotlib.pyplot as plt\n",
    "import seaborn as sb\n",
    "\n",
    "%matplotlib inline\n",
    "\n",
    "# suppress warnings from final output\n",
    "import warnings\n",
    "warnings.simplefilter(\"ignore\")"
   ]
  },
  {
   "cell_type": "code",
   "execution_count": 20,
   "metadata": {
    "slideshow": {
     "slide_type": "skip"
    }
   },
   "outputs": [
    {
     "data": {
      "text/html": [
       "<div>\n",
       "<style scoped>\n",
       "    .dataframe tbody tr th:only-of-type {\n",
       "        vertical-align: middle;\n",
       "    }\n",
       "\n",
       "    .dataframe tbody tr th {\n",
       "        vertical-align: top;\n",
       "    }\n",
       "\n",
       "    .dataframe thead th {\n",
       "        text-align: right;\n",
       "    }\n",
       "</style>\n",
       "<table border=\"1\" class=\"dataframe\">\n",
       "  <thead>\n",
       "    <tr style=\"text-align: right;\">\n",
       "      <th></th>\n",
       "      <th>duration_sec</th>\n",
       "      <th>start_time</th>\n",
       "      <th>end_time</th>\n",
       "      <th>bike_id</th>\n",
       "      <th>user_type</th>\n",
       "      <th>member_birth_year</th>\n",
       "      <th>member_gender</th>\n",
       "      <th>bike_share_for_all_trip</th>\n",
       "      <th>weekday</th>\n",
       "      <th>hour</th>\n",
       "      <th>duration_minutes</th>\n",
       "      <th>age</th>\n",
       "    </tr>\n",
       "  </thead>\n",
       "  <tbody>\n",
       "    <tr>\n",
       "      <th>0</th>\n",
       "      <td>1585</td>\n",
       "      <td>2019-02-28 23:54:18.549</td>\n",
       "      <td>2019-03-01 00:20:44.074</td>\n",
       "      <td>4898</td>\n",
       "      <td>Subscriber</td>\n",
       "      <td>1974.0</td>\n",
       "      <td>Male</td>\n",
       "      <td>Yes</td>\n",
       "      <td>Thursday</td>\n",
       "      <td>23</td>\n",
       "      <td>26</td>\n",
       "      <td>45</td>\n",
       "    </tr>\n",
       "    <tr>\n",
       "      <th>1</th>\n",
       "      <td>1793</td>\n",
       "      <td>2019-02-28 23:49:58.632</td>\n",
       "      <td>2019-03-01 00:19:51.760</td>\n",
       "      <td>5200</td>\n",
       "      <td>Subscriber</td>\n",
       "      <td>1959.0</td>\n",
       "      <td>Male</td>\n",
       "      <td>No</td>\n",
       "      <td>Thursday</td>\n",
       "      <td>23</td>\n",
       "      <td>30</td>\n",
       "      <td>60</td>\n",
       "    </tr>\n",
       "    <tr>\n",
       "      <th>2</th>\n",
       "      <td>1147</td>\n",
       "      <td>2019-02-28 23:55:35.104</td>\n",
       "      <td>2019-03-01 00:14:42.588</td>\n",
       "      <td>3803</td>\n",
       "      <td>Subscriber</td>\n",
       "      <td>1983.0</td>\n",
       "      <td>Female</td>\n",
       "      <td>No</td>\n",
       "      <td>Thursday</td>\n",
       "      <td>23</td>\n",
       "      <td>19</td>\n",
       "      <td>36</td>\n",
       "    </tr>\n",
       "    <tr>\n",
       "      <th>3</th>\n",
       "      <td>1615</td>\n",
       "      <td>2019-02-28 23:41:06.766</td>\n",
       "      <td>2019-03-01 00:08:02.756</td>\n",
       "      <td>6329</td>\n",
       "      <td>Subscriber</td>\n",
       "      <td>1989.0</td>\n",
       "      <td>Male</td>\n",
       "      <td>No</td>\n",
       "      <td>Thursday</td>\n",
       "      <td>23</td>\n",
       "      <td>27</td>\n",
       "      <td>30</td>\n",
       "    </tr>\n",
       "    <tr>\n",
       "      <th>4</th>\n",
       "      <td>1049</td>\n",
       "      <td>2019-02-28 23:49:47.699</td>\n",
       "      <td>2019-03-01 00:07:17.025</td>\n",
       "      <td>6488</td>\n",
       "      <td>Subscriber</td>\n",
       "      <td>1992.0</td>\n",
       "      <td>Male</td>\n",
       "      <td>No</td>\n",
       "      <td>Thursday</td>\n",
       "      <td>23</td>\n",
       "      <td>17</td>\n",
       "      <td>27</td>\n",
       "    </tr>\n",
       "  </tbody>\n",
       "</table>\n",
       "</div>"
      ],
      "text/plain": [
       "   duration_sec               start_time                 end_time  bike_id  \\\n",
       "0          1585  2019-02-28 23:54:18.549  2019-03-01 00:20:44.074     4898   \n",
       "1          1793  2019-02-28 23:49:58.632  2019-03-01 00:19:51.760     5200   \n",
       "2          1147  2019-02-28 23:55:35.104  2019-03-01 00:14:42.588     3803   \n",
       "3          1615  2019-02-28 23:41:06.766  2019-03-01 00:08:02.756     6329   \n",
       "4          1049  2019-02-28 23:49:47.699  2019-03-01 00:07:17.025     6488   \n",
       "\n",
       "    user_type  member_birth_year member_gender bike_share_for_all_trip  \\\n",
       "0  Subscriber             1974.0          Male                     Yes   \n",
       "1  Subscriber             1959.0          Male                      No   \n",
       "2  Subscriber             1983.0        Female                      No   \n",
       "3  Subscriber             1989.0          Male                      No   \n",
       "4  Subscriber             1992.0          Male                      No   \n",
       "\n",
       "    weekday  hour  duration_minutes  age  \n",
       "0  Thursday    23                26   45  \n",
       "1  Thursday    23                30   60  \n",
       "2  Thursday    23                19   36  \n",
       "3  Thursday    23                27   30  \n",
       "4  Thursday    23                17   27  "
      ]
     },
     "execution_count": 20,
     "metadata": {},
     "output_type": "execute_result"
    }
   ],
   "source": [
    "df = pd.read_csv('df_clean.csv')\n",
    "df.head()\n"
   ]
  },
  {
   "cell_type": "code",
   "execution_count": 21,
   "metadata": {
    "slideshow": {
     "slide_type": "skip"
    }
   },
   "outputs": [
    {
     "name": "stdout",
     "output_type": "stream",
     "text": [
      "<class 'pandas.core.frame.DataFrame'>\n",
      "RangeIndex: 169513 entries, 0 to 169512\n",
      "Data columns (total 12 columns):\n",
      " #   Column                   Non-Null Count   Dtype  \n",
      "---  ------                   --------------   -----  \n",
      " 0   duration_sec             169513 non-null  int64  \n",
      " 1   start_time               169513 non-null  object \n",
      " 2   end_time                 169513 non-null  object \n",
      " 3   bike_id                  169513 non-null  int64  \n",
      " 4   user_type                169513 non-null  object \n",
      " 5   member_birth_year        169513 non-null  float64\n",
      " 6   member_gender            169513 non-null  object \n",
      " 7   bike_share_for_all_trip  169513 non-null  object \n",
      " 8   weekday                  169513 non-null  object \n",
      " 9   hour                     169513 non-null  int64  \n",
      " 10  duration_minutes         169513 non-null  int64  \n",
      " 11  age                      169513 non-null  int64  \n",
      "dtypes: float64(1), int64(5), object(6)\n",
      "memory usage: 15.5+ MB\n"
     ]
    }
   ],
   "source": [
    "df.info()"
   ]
  },
  {
   "cell_type": "code",
   "execution_count": 22,
   "metadata": {
    "slideshow": {
     "slide_type": "skip"
    }
   },
   "outputs": [
    {
     "data": {
      "text/html": [
       "<div>\n",
       "<style scoped>\n",
       "    .dataframe tbody tr th:only-of-type {\n",
       "        vertical-align: middle;\n",
       "    }\n",
       "\n",
       "    .dataframe tbody tr th {\n",
       "        vertical-align: top;\n",
       "    }\n",
       "\n",
       "    .dataframe thead th {\n",
       "        text-align: right;\n",
       "    }\n",
       "</style>\n",
       "<table border=\"1\" class=\"dataframe\">\n",
       "  <thead>\n",
       "    <tr style=\"text-align: right;\">\n",
       "      <th></th>\n",
       "      <th>weekday</th>\n",
       "      <th>user_type</th>\n",
       "      <th>quantity</th>\n",
       "      <th>ratio</th>\n",
       "    </tr>\n",
       "  </thead>\n",
       "  <tbody>\n",
       "    <tr>\n",
       "      <th>0</th>\n",
       "      <td>Monday</td>\n",
       "      <td>Customer</td>\n",
       "      <td>2216</td>\n",
       "      <td>0.140484</td>\n",
       "    </tr>\n",
       "    <tr>\n",
       "      <th>1</th>\n",
       "      <td>Tuesday</td>\n",
       "      <td>Customer</td>\n",
       "      <td>2197</td>\n",
       "      <td>0.139280</td>\n",
       "    </tr>\n",
       "    <tr>\n",
       "      <th>2</th>\n",
       "      <td>Wednesday</td>\n",
       "      <td>Customer</td>\n",
       "      <td>1997</td>\n",
       "      <td>0.126601</td>\n",
       "    </tr>\n",
       "    <tr>\n",
       "      <th>3</th>\n",
       "      <td>Thursday</td>\n",
       "      <td>Customer</td>\n",
       "      <td>2729</td>\n",
       "      <td>0.173006</td>\n",
       "    </tr>\n",
       "    <tr>\n",
       "      <th>4</th>\n",
       "      <td>Friday</td>\n",
       "      <td>Customer</td>\n",
       "      <td>2418</td>\n",
       "      <td>0.153290</td>\n",
       "    </tr>\n",
       "    <tr>\n",
       "      <th>5</th>\n",
       "      <td>Saturday</td>\n",
       "      <td>Customer</td>\n",
       "      <td>2067</td>\n",
       "      <td>0.131038</td>\n",
       "    </tr>\n",
       "    <tr>\n",
       "      <th>6</th>\n",
       "      <td>Sunday</td>\n",
       "      <td>Customer</td>\n",
       "      <td>2150</td>\n",
       "      <td>0.136300</td>\n",
       "    </tr>\n",
       "    <tr>\n",
       "      <th>7</th>\n",
       "      <td>Monday</td>\n",
       "      <td>Subscriber</td>\n",
       "      <td>22619</td>\n",
       "      <td>0.147126</td>\n",
       "    </tr>\n",
       "    <tr>\n",
       "      <th>8</th>\n",
       "      <td>Tuesday</td>\n",
       "      <td>Subscriber</td>\n",
       "      <td>27563</td>\n",
       "      <td>0.179284</td>\n",
       "    </tr>\n",
       "    <tr>\n",
       "      <th>9</th>\n",
       "      <td>Wednesday</td>\n",
       "      <td>Subscriber</td>\n",
       "      <td>25590</td>\n",
       "      <td>0.166451</td>\n",
       "    </tr>\n",
       "    <tr>\n",
       "      <th>10</th>\n",
       "      <td>Thursday</td>\n",
       "      <td>Subscriber</td>\n",
       "      <td>29934</td>\n",
       "      <td>0.194707</td>\n",
       "    </tr>\n",
       "    <tr>\n",
       "      <th>11</th>\n",
       "      <td>Friday</td>\n",
       "      <td>Subscriber</td>\n",
       "      <td>24374</td>\n",
       "      <td>0.158541</td>\n",
       "    </tr>\n",
       "    <tr>\n",
       "      <th>12</th>\n",
       "      <td>Saturday</td>\n",
       "      <td>Subscriber</td>\n",
       "      <td>11864</td>\n",
       "      <td>0.077170</td>\n",
       "    </tr>\n",
       "    <tr>\n",
       "      <th>13</th>\n",
       "      <td>Sunday</td>\n",
       "      <td>Subscriber</td>\n",
       "      <td>11795</td>\n",
       "      <td>0.076721</td>\n",
       "    </tr>\n",
       "  </tbody>\n",
       "</table>\n",
       "</div>"
      ],
      "text/plain": [
       "      weekday   user_type  quantity     ratio\n",
       "0      Monday    Customer      2216  0.140484\n",
       "1     Tuesday    Customer      2197  0.139280\n",
       "2   Wednesday    Customer      1997  0.126601\n",
       "3    Thursday    Customer      2729  0.173006\n",
       "4      Friday    Customer      2418  0.153290\n",
       "5    Saturday    Customer      2067  0.131038\n",
       "6      Sunday    Customer      2150  0.136300\n",
       "7      Monday  Subscriber     22619  0.147126\n",
       "8     Tuesday  Subscriber     27563  0.179284\n",
       "9   Wednesday  Subscriber     25590  0.166451\n",
       "10   Thursday  Subscriber     29934  0.194707\n",
       "11     Friday  Subscriber     24374  0.158541\n",
       "12   Saturday  Subscriber     11864  0.077170\n",
       "13     Sunday  Subscriber     11795  0.076721"
      ]
     },
     "execution_count": 22,
     "metadata": {},
     "output_type": "execute_result"
    }
   ],
   "source": [
    "ratios = pd.read_csv('ratios.csv')\n",
    "ratios"
   ]
  },
  {
   "cell_type": "code",
   "execution_count": 23,
   "metadata": {
    "slideshow": {
     "slide_type": "skip"
    }
   },
   "outputs": [
    {
     "name": "stdout",
     "output_type": "stream",
     "text": [
      "<class 'pandas.core.frame.DataFrame'>\n",
      "RangeIndex: 14 entries, 0 to 13\n",
      "Data columns (total 4 columns):\n",
      " #   Column     Non-Null Count  Dtype  \n",
      "---  ------     --------------  -----  \n",
      " 0   weekday    14 non-null     object \n",
      " 1   user_type  14 non-null     object \n",
      " 2   quantity   14 non-null     int64  \n",
      " 3   ratio      14 non-null     float64\n",
      "dtypes: float64(1), int64(1), object(2)\n",
      "memory usage: 576.0+ bytes\n"
     ]
    }
   ],
   "source": [
    "ratios.info()"
   ]
  },
  {
   "cell_type": "markdown",
   "metadata": {
    "slideshow": {
     "slide_type": "notes"
    }
   },
   "source": [
    "> Note that the above cells have been set as \"Skip\"-type slides. That means\n",
    "that when the notebook is rendered as http slides, those cells won't show up."
   ]
  },
  {
   "cell_type": "markdown",
   "metadata": {
    "slideshow": {
     "slide_type": "slide"
    }
   },
   "source": [
    "## User Type by Weekday bike use\n",
    "\n",
    ">As we can see from the first graph most of the people using the service are Subscribers 90.7% the rest are random customers 9.3%.\n",
    "\n",
    "> In the second graph we can see an interesting observation - during the working week proportionally subscribers used the service more, however, on the weekend regular (random) customer used it proportionally more often. This means that on the weekend many casual bike riders use the service and people that use it during the week for commuting don't use the service as often."
   ]
  },
  {
   "cell_type": "code",
   "execution_count": 24,
   "metadata": {
    "slideshow": {
     "slide_type": "skip"
    }
   },
   "outputs": [],
   "source": [
    "plt.rcParams.update({'font.size': 12})"
   ]
  },
  {
   "cell_type": "code",
   "execution_count": 25,
   "metadata": {
    "slideshow": {
     "slide_type": "subslide"
    }
   },
   "outputs": [
    {
     "data": {
      "image/png": "[encoded data removed]",
      "text/plain": [
       "<Figure size 1152x432 with 2 Axes>"
      ]
     },
     "metadata": {
      "needs_background": "light"
     },
     "output_type": "display_data"
    }
   ],
   "source": [
    "plt.figure(figsize=(16,6))\n",
    "plt.subplot(1, 2, 1)\n",
    "vals = df.user_type.value_counts()/df.shape[0]\n",
    "labels = vals.keys()\n",
    "plt.pie(x=vals, autopct=\"%.1f%%\", explode=[0.1]*2, labels=labels, pctdistance=0.5)\n",
    "plt.title(\"User Type\", fontsize=14);\n",
    "plt.subplot(1, 2, 2)\n",
    "sb.barplot(x='weekday', y='ratio', hue='user_type', data=ratios);\n",
    "plt.xlabel('Weekday');\n",
    "plt.ylabel('Ratio');\n",
    "plt.xticks(rotation = 45);\n",
    "plt.title(\"Bike use ratios by Weekday\", fontsize=14);"
   ]
  },
  {
   "cell_type": "markdown",
   "metadata": {
    "collapsed": true,
    "slideshow": {
     "slide_type": "slide"
    }
   },
   "source": [
    "## Bike user count by Gender and time of day the bike was rented\n",
    "\n",
    "> The hour at which the bikes are rented is also interesting. We can see that people mostly use the bikes around 8 AM and 5 PM. This indicates that the main way people use the bike is for commuting."
   ]
  },
  {
   "cell_type": "code",
   "execution_count": 26,
   "metadata": {
    "slideshow": {
     "slide_type": "subslide"
    }
   },
   "outputs": [
    {
     "data": {
      "image/png": "[encoded data removed]",
      "text/plain": [
       "<Figure size 1152x576 with 1 Axes>"
      ]
     },
     "metadata": {
      "needs_background": "light"
     },
     "output_type": "display_data"
    }
   ],
   "source": [
    "fig = plt.figure(figsize = [16,8])\n",
    "sb.countplot(data = df, x = 'hour', hue = 'member_gender');\n",
    "plt.xlabel('Hour');\n",
    "plt.ylabel('Count');\n",
    "plt.title(\"Bike user count by Gender and time the bike was rented\", fontsize=18);"
   ]
  },
  {
   "cell_type": "markdown",
   "metadata": {
    "slideshow": {
     "slide_type": "slide"
    }
   },
   "source": [
    "## Bike rental time by gender and age\n",
    "\n",
    ">Below we can see an interesting observation. We can verify that female bike riders tend to rent the bike for longer. Also, we can verify that the youngest people rent the bike for longer periods. However, one interesting thing to note is that people that are older than 50 years tend to rent the bike for longer periods compared to 30 - 50-year-olds. This is a very interesting observation which may indicate the people after 50 use the bike more for exercise as a fitness tool as opposed to a commuting tool."
   ]
  },
  {
   "cell_type": "code",
   "execution_count": 27,
   "metadata": {
    "slideshow": {
     "slide_type": "subslide"
    }
   },
   "outputs": [
    {
     "data": {
      "image/png": "[encoded data removed]",
      "text/plain": [
       "<Figure size 1152x576 with 1 Axes>"
      ]
     },
     "metadata": {
      "needs_background": "light"
     },
     "output_type": "display_data"
    }
   ],
   "source": [
    "fig = plt.figure(figsize = [16,8])\n",
    "sb.pointplot(data=df, x='age', y='duration_minutes', hue='member_gender', dodge=0.3, linestyles=\"\");\n",
    "plt.xlabel('Age');\n",
    "plt.ylabel('Duration in minutes');\n",
    "plt.title(\"Bike rental time by gender and age\", fontsize=18);"
   ]
  },
  {
   "cell_type": "markdown",
   "metadata": {
    "slideshow": {
     "slide_type": "skip"
    }
   },
   "source": [
    "> Once you're ready to finish your presentation, check your output by using\n",
    "nbconvert to export the notebook and set up a server for the slides. From the\n",
    "terminal or command line, use the following expression:\n",
    "> > `jupyter nbconvert slide_deck_template.ipynb --to slides --post serve`\n",
    "\n",
    "> This should open a tab in your web browser where you can scroll through your\n",
    "presentation. Sub-slides can be accessed by pressing 'down' when viewing its parent\n",
    "slide. Make sure you remove all of the quote-formatted guide notes like this one\n",
    "before you finish your presentation!"
   ]
  },
  {
   "cell_type": "code",
   "execution_count": null,
   "metadata": {
    "slideshow": {
     "slide_type": "skip"
    }
   },
   "outputs": [],
   "source": []
  }
 ],
 "metadata": {
  "celltoolbar": "Slideshow",
  "kernelspec": {
   "display_name": "Python 3",
   "language": "python",
   "name": "python3"
  },
  "language_info": {
   "codemirror_mode": {
    "name": "ipython",
    "version": 3
   },
   "file_extension": ".py",
   "mimetype": "text/x-python",
   "name": "python",
   "nbconvert_exporter": "python",
   "pygments_lexer": "ipython3",
   "version": "3.8.5"
  }
 },
 "nbformat": 4,
 "nbformat_minor": 2
}
